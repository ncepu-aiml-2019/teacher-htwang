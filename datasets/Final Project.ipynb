{
 "cells": [
  {
   "cell_type": "markdown",
   "metadata": {},
   "source": [
    "## Final Project\n",
    "\n",
    "请大家选择以下两个数据集之一进行分析，\n",
    "\n",
    "### 1、白酒质量预测\n",
    "\n",
    "1）将白酒质量数据集进行数据探索，分析白酒质量与各个特征之间的关系，并进行可视化。\n",
    "\n",
    "2）建立机器学习模型进行白酒质量预测，要求划分训练集和验证集，并进行5折交叉验证。如果验证集预测平均精确率在80%以上，则给与优秀成绩。\n",
    "\n",
    "### 2、Youtube恶意评论检测\n",
    "\n",
    "1）该数据集是非结构化的Text类型数据，你需要采用合理的方法（如词频、TF-IDF等）完成特征的提取。\n",
    "\n",
    "2）基于所学机器学习模型对训练数据集进行训练，并在测试数据集上进行测试，报告测试结果（如精确率、召回率以及F1值等），完成任务给与优秀成绩。\n",
    "\n",
    "\n",
    "## 要求\n",
    "\n",
    "#### 1、项目以jupyter notebook格式完成，文件命名为“学号_班级_姓名.ipynb”。\n",
    "#### 2、该notebook程序文件需要在你本地执行并显示运行结果，辅以对结果的分析和解释。\n",
    "#### 3、在自己的github仓库中，建立“Final Project”文件夹并上传该notebook程序文件。"
   ]
  }
 ],
 "metadata": {
  "kernelspec": {
   "display_name": "Python [default]",
   "language": "python",
   "name": "python3"
  },
  "language_info": {
   "codemirror_mode": {
    "name": "ipython",
    "version": 3
   },
   "file_extension": ".py",
   "mimetype": "text/x-python",
   "name": "python",
   "nbconvert_exporter": "python",
   "pygments_lexer": "ipython3",
   "version": "3.6.4"
  }
 },
 "nbformat": 4,
 "nbformat_minor": 2
}
