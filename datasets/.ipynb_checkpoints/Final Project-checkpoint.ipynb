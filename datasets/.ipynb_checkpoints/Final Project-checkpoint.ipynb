{
 "cells": [
  {
   "cell_type": "markdown",
   "metadata": {},
   "source": [
    "## Final Project\n",
    "\n",
    "The final project is your opportunity to do your own data project end to end and present the results to some local companies.\n",
    "\n",
    "### Rubric\n",
    "\n",
    "Code Quality - 20%\n",
    "\n",
    "Describing, cleaning, and visualizing data - 25%\n",
    "\n",
    "Modeling - 25%\n",
    "\n",
    "Presentation / Storytelling - 30%"
   ]
  }
 ],
 "metadata": {
  "kernelspec": {
   "display_name": "Python [default]",
   "language": "python",
   "name": "python3"
  },
  "language_info": {
   "codemirror_mode": {
    "name": "ipython",
    "version": 3
   },
   "file_extension": ".py",
   "mimetype": "text/x-python",
   "name": "python",
   "nbconvert_exporter": "python",
   "pygments_lexer": "ipython3",
   "version": "3.6.4"
  }
 },
 "nbformat": 4,
 "nbformat_minor": 2
}
